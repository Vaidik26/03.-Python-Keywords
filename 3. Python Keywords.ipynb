{
 "cells": [
  {
   "cell_type": "markdown",
   "metadata": {},
   "source": [
    "1. Explain the significance of Python keywords and provide examples of five keywords\n",
    "\n",
    "Python keywords are reserved keywords, they can't be use in name of variable if they are used it will throw an error.\n",
    "\n",
    "    Example below :"
   ]
  },
  {
   "cell_type": "code",
   "execution_count": 1,
   "metadata": {},
   "outputs": [
    {
     "ename": "TypeError",
     "evalue": "'int' object is not callable",
     "output_type": "error",
     "traceback": [
      "\u001b[1;31m---------------------------------------------------------------------------\u001b[0m",
      "\u001b[1;31mTypeError\u001b[0m                                 Traceback (most recent call last)",
      "Cell \u001b[1;32mIn[1], line 2\u001b[0m\n\u001b[0;32m      1\u001b[0m \u001b[38;5;28mprint\u001b[39m \u001b[38;5;241m=\u001b[39m \u001b[38;5;241m5\u001b[39m\n\u001b[1;32m----> 2\u001b[0m \u001b[38;5;28;43mprint\u001b[39;49m\u001b[43m(\u001b[49m\u001b[38;5;124;43m\"\u001b[39;49m\u001b[38;5;124;43mHello World\u001b[39;49m\u001b[38;5;124;43m\"\u001b[39;49m\u001b[43m)\u001b[49m\n",
      "\u001b[1;31mTypeError\u001b[0m: 'int' object is not callable"
     ]
    }
   ],
   "source": [
    "print = 5\n",
    "print(\"Hello World\")"
   ]
  },
  {
   "cell_type": "code",
   "execution_count": 4,
   "metadata": {},
   "outputs": [
    {
     "name": "stdout",
     "output_type": "stream",
     "text": [
      "Vaidik\n"
     ]
    }
   ],
   "source": [
    "# 2. Describe the rules for defining identifiers in Python and provide an example\n",
    "\n",
    "# A variable name should start with alphabets(Doesnt matter if it is capital or small) and underscore \"_\" . It should not contain any numeric digits and any special character.\n",
    "\n",
    "# Example of perfect variable names :\n",
    "\n",
    "_me = \"Vaidik\"\n",
    "print(_me)\n",
    "\n",
    "You = \"Pw Skills\"\n",
    "print(You)"
   ]
  },
  {
   "cell_type": "code",
   "execution_count": null,
   "metadata": {},
   "outputs": [],
   "source": [
    "#Example of variable name which will cause error\n",
    "\n",
    "3w = \"Error\"\n",
    "print(3w)\n",
    "\n",
    "@me = \"Vaidik\"\n",
    "print(@me)"
   ]
  },
  {
   "cell_type": "markdown",
   "metadata": {},
   "source": [
    "# 3. 8 What are comments in Python, and why are they useful ? Provide an example\n",
    "\n",
    "Comments are text which are ignored by the python interpeter when the code is executed. \n",
    "\n",
    "They are useful because with help of comments you can make code easier to understand and also can be used define the code.\n",
    "\n",
    "For example: "
   ]
  },
  {
   "cell_type": "code",
   "execution_count": 1,
   "metadata": {},
   "outputs": [
    {
     "name": "stdout",
     "output_type": "stream",
     "text": [
      "You can vote\n"
     ]
    }
   ],
   "source": [
    "#this is comment\n",
    "\n",
    "a = \"Vaidik\" #this is name of voter\n",
    "\n",
    "b = 18 #this is age of voter\n",
    "\n",
    "print(\"You can vote\")"
   ]
  },
  {
   "cell_type": "code",
   "execution_count": 2,
   "metadata": {},
   "outputs": [
    {
     "name": "stdout",
     "output_type": "stream",
     "text": [
      "This is indented properly.\n",
      "It is part of the same block.\n"
     ]
    }
   ],
   "source": [
    "# 4. Why is proper indentation important in Python?\n",
    "\n",
    "# Proper indentation is important in python because it helps in readabilty and for functioning of code\n",
    "\n",
    "# Correct indentation\n",
    "\n",
    "\n",
    "if True:\n",
    "    print(\"This is indented properly.\")\n",
    "    print(\"It is part of the same block.\")"
   ]
  },
  {
   "cell_type": "code",
   "execution_count": 3,
   "metadata": {},
   "outputs": [
    {
     "ename": "IndentationError",
     "evalue": "expected an indented block after 'if' statement on line 3 (1060696124.py, line 4)",
     "output_type": "error",
     "traceback": [
      "\u001b[1;36m  Cell \u001b[1;32mIn[3], line 4\u001b[1;36m\u001b[0m\n\u001b[1;33m    print(\"This will cause an error.\")\u001b[0m\n\u001b[1;37m    ^\u001b[0m\n\u001b[1;31mIndentationError\u001b[0m\u001b[1;31m:\u001b[0m expected an indented block after 'if' statement on line 3\n"
     ]
    }
   ],
   "source": [
    "#5. What happens if indentation is incorrect in Python?\n",
    "#It will display Indentation error\n",
    "\n",
    "# Incorrect indentation\n",
    "\n",
    "if True:\n",
    "print(\"This will cause an error.\")\n",
    "print(\"Because it is not properly indented.\")"
   ]
  },
  {
   "cell_type": "markdown",
   "metadata": {},
   "source": [
    "#6. Differentiate between expression and statement in Python with examples?\n",
    "\n",
    "Expressions:\n",
    "\n",
    "Expressions is combination of values, variables, operators, and function\n",
    "\n",
    "Expressions gives single value\n",
    "\n",
    "\n",
    "Statements:\n",
    "\n",
    "Statements are the line of code which performs the instructions or command based on the conditions given by coder.\n",
    "\n",
    "Statements also have single value result which comes after conditions are satisfied\n",
    "\n",
    "Example:\n"
   ]
  },
  {
   "cell_type": "code",
   "execution_count": 1,
   "metadata": {},
   "outputs": [
    {
     "name": "stdout",
     "output_type": "stream",
     "text": [
      "56\n",
      "x is greater than 10\n"
     ]
    }
   ],
   "source": [
    "#This is example of Expression\n",
    "\n",
    "\n",
    "r = 7\n",
    "t = 8\n",
    "\n",
    "print(r*t)\n",
    "\n",
    "x = 5 \n",
    "\n",
    "#This is example of Statements\n",
    "\n",
    "if x > 10:\n",
    "    print(\"x is less than 10\")\n",
    "    \n",
    "else:\n",
    "    print(\"x is greater than 10\")\n",
    "    "
   ]
  },
  {
   "cell_type": "code",
   "execution_count": null,
   "metadata": {},
   "outputs": [],
   "source": []
  }
 ],
 "metadata": {
  "kernelspec": {
   "display_name": "Python 3",
   "language": "python",
   "name": "python3"
  },
  "language_info": {
   "codemirror_mode": {
    "name": "ipython",
    "version": 3
   },
   "file_extension": ".py",
   "mimetype": "text/x-python",
   "name": "python",
   "nbconvert_exporter": "python",
   "pygments_lexer": "ipython3",
   "version": "3.12.2"
  }
 },
 "nbformat": 4,
 "nbformat_minor": 2
}
